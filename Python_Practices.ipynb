{
  "nbformat": 4,
  "nbformat_minor": 0,
  "metadata": {
    "colab": {
      "provenance": [],
      "authorship_tag": "ABX9TyOpKx8SDPyW7eg+CF9zasgq",
      "include_colab_link": true
    },
    "kernelspec": {
      "name": "python3",
      "display_name": "Python 3"
    },
    "language_info": {
      "name": "python"
    }
  },
  "cells": [
    {
      "cell_type": "markdown",
      "metadata": {
        "id": "view-in-github",
        "colab_type": "text"
      },
      "source": [
        "<a href=\"https://colab.research.google.com/github/Afsaruddin12133/pyhonPractices/blob/main/Python_Practices.ipynb\" target=\"_parent\"><img src=\"https://colab.research.google.com/assets/colab-badge.svg\" alt=\"Open In Colab\"/></a>"
      ]
    },
    {
      "cell_type": "markdown",
      "source": [
        "Basic Pythoin"
      ],
      "metadata": {
        "id": "tRPiEUJyOzsQ"
      }
    },
    {
      "cell_type": "code",
      "source": [
        "# Variables\n",
        "name = \"Afsar\"\n",
        "age = 24\n",
        "height = 5.9\n",
        "is_cse = True\n",
        "print(name,age,height,is_cse)"
      ],
      "metadata": {
        "colab": {
          "base_uri": "https://localhost:8080/"
        },
        "id": "3jym46_BHMaU",
        "outputId": "328ba8e3-4b42-4a18-83c1-f2a32f4f7ff3"
      },
      "execution_count": null,
      "outputs": [
        {
          "output_type": "stream",
          "name": "stdout",
          "text": [
            "Afsar 24 5.9 True\n"
          ]
        }
      ]
    },
    {
      "cell_type": "code",
      "source": [
        "# Conditions\n",
        "x = 10\n",
        "if x > 0:\n",
        "    print(\"Positive\")\n",
        "elif x == 0:\n",
        "    print(\"Zero\")\n",
        "else:\n",
        "    print(\"Negative\")"
      ],
      "metadata": {
        "colab": {
          "base_uri": "https://localhost:8080/"
        },
        "id": "Qddfw_dKH3TH",
        "outputId": "85084049-be59-44d3-a9e7-4082f6987c6f"
      },
      "execution_count": null,
      "outputs": [
        {
          "output_type": "stream",
          "name": "stdout",
          "text": [
            "Positive\n"
          ]
        }
      ]
    },
    {
      "cell_type": "code",
      "source": [
        "# Loops\n",
        "count = 0\n",
        "while count < 5:\n",
        "    print(count)\n",
        "    count += 1"
      ],
      "metadata": {
        "colab": {
          "base_uri": "https://localhost:8080/"
        },
        "id": "Bkwl_fQiJBkf",
        "outputId": "3df574c7-5645-479f-e876-e2453ace22e0"
      },
      "execution_count": null,
      "outputs": [
        {
          "output_type": "stream",
          "name": "stdout",
          "text": [
            "0\n",
            "1\n",
            "2\n",
            "3\n",
            "4\n"
          ]
        }
      ]
    },
    {
      "cell_type": "code",
      "source": [
        "# Function\n",
        "def greet(name):\n",
        "    return \"Hello \" + name\n",
        "print(greet(\"Afsar\"))"
      ],
      "metadata": {
        "colab": {
          "base_uri": "https://localhost:8080/"
        },
        "id": "LFSxfg-KJe6P",
        "outputId": "73260356-f659-4358-aa48-4638e59a1ae9"
      },
      "execution_count": null,
      "outputs": [
        {
          "output_type": "stream",
          "name": "stdout",
          "text": [
            "Hello Afsar\n"
          ]
        }
      ]
    },
    {
      "cell_type": "code",
      "source": [
        "#Dictionary\n",
        "student = {\"name\": \"Afsar\", \"age\": 24, \"dept\": \"CSE\"}\n",
        "print(student[\"name\"])"
      ],
      "metadata": {
        "colab": {
          "base_uri": "https://localhost:8080/"
        },
        "id": "VGawwsWOJ3V9",
        "outputId": "4e1c6625-0f45-4911-b1e1-81df59d826fa"
      },
      "execution_count": null,
      "outputs": [
        {
          "output_type": "stream",
          "name": "stdout",
          "text": [
            "Afsar\n"
          ]
        }
      ]
    },
    {
      "cell_type": "code",
      "source": [
        "# Class and Object\n",
        "class Student:\n",
        "  def __init__(self, name): self.name = name\n",
        "  def greet(self):\n",
        "    \treturn \"Hello, \" + self.name\n",
        "obj = Student(\"Afsar\")\n",
        "print(obj.greet())"
      ],
      "metadata": {
        "colab": {
          "base_uri": "https://localhost:8080/"
        },
        "id": "aHQ57QmFJ947",
        "outputId": "b411f3fe-1258-4175-d46e-7e483e84c9fa"
      },
      "execution_count": null,
      "outputs": [
        {
          "output_type": "stream",
          "name": "stdout",
          "text": [
            "Hello, Afsar\n"
          ]
        }
      ]
    },
    {
      "cell_type": "code",
      "source": [
        "# Exception Handaling\n",
        "try:\n",
        "    \tresult = 10 / 0\n",
        "except ZeroDivisionError:\n",
        "    \tprint(\"Cannot divide by zero\")"
      ],
      "metadata": {
        "colab": {
          "base_uri": "https://localhost:8080/"
        },
        "id": "eYEDOmJcKqAU",
        "outputId": "c6501e01-7aa3-411a-922c-9abef7067176"
      },
      "execution_count": null,
      "outputs": [
        {
          "output_type": "stream",
          "name": "stdout",
          "text": [
            "Cannot divide by zero\n"
          ]
        }
      ]
    },
    {
      "cell_type": "code",
      "source": [
        "# File Handaling\n",
        "with open(\"demo.txt\", \"w\") as file:\n",
        "    file.write(\"Hello Afsar\")\n",
        "\n",
        "with open(\"demo.txt\", \"r\") as file:\n",
        "    print(file.read())\n"
      ],
      "metadata": {
        "colab": {
          "base_uri": "https://localhost:8080/"
        },
        "id": "Mbs8BGp7Kyd4",
        "outputId": "88f29a52-78f0-48c2-9429-cf06548bdc51"
      },
      "execution_count": null,
      "outputs": [
        {
          "output_type": "stream",
          "name": "stdout",
          "text": [
            "Hello Afsar\n"
          ]
        }
      ]
    },
    {
      "cell_type": "markdown",
      "source": [
        "Pandas Library code Snippets"
      ],
      "metadata": {
        "id": "lXx8JziUS-lR"
      }
    },
    {
      "cell_type": "code",
      "source": [
        "import pandas as pd\n",
        "df = pd.read_csv(\"student_scores.csv\")\n",
        "print(df)"
      ],
      "metadata": {
        "colab": {
          "base_uri": "https://localhost:8080/"
        },
        "id": "MU0S1xxtTIae",
        "outputId": "39fb750b-c649-4ec7-ee42-98e2e7a8e3b5"
      },
      "execution_count": null,
      "outputs": [
        {
          "output_type": "stream",
          "name": "stdout",
          "text": [
            "    Hours  Scores\n",
            "0     2.5      21\n",
            "1     5.1      47\n",
            "2     3.2      27\n",
            "3     8.5      75\n",
            "4     3.5      30\n",
            "5     1.5      20\n",
            "6     9.2      88\n",
            "7     5.5      60\n",
            "8     8.3      81\n",
            "9     2.7      25\n",
            "10    7.7      85\n",
            "11    5.9      62\n",
            "12    4.5      41\n",
            "13    3.3      42\n",
            "14    1.1      17\n",
            "15    8.9      95\n",
            "16    2.5      30\n",
            "17    1.9      24\n",
            "18    6.1      67\n",
            "19    7.4      69\n",
            "20    2.7      30\n",
            "21    4.8      54\n",
            "22    3.8      35\n",
            "23    6.9      76\n",
            "24    7.8      86\n"
          ]
        }
      ]
    },
    {
      "cell_type": "code",
      "source": [
        "print(df.head())"
      ],
      "metadata": {
        "colab": {
          "base_uri": "https://localhost:8080/"
        },
        "id": "rctlolztVUND",
        "outputId": "146ecefd-4ead-4046-c46e-ec3f535f372d"
      },
      "execution_count": null,
      "outputs": [
        {
          "output_type": "stream",
          "name": "stdout",
          "text": [
            "   Hours  Scores\n",
            "0    2.5      21\n",
            "1    5.1      47\n",
            "2    3.2      27\n",
            "3    8.5      75\n",
            "4    3.5      30\n"
          ]
        }
      ]
    },
    {
      "cell_type": "code",
      "source": [
        "import pandas as pd\n",
        "\n",
        "df = pd.DataFrame({\n",
        "\n",
        "    'Name': ['Afsar', 'Sadia', 'Rahim'],\n",
        "\n",
        "    'GPA': [3.9, None, 3.2]\n",
        "\n",
        "})\n",
        "\n",
        "df.info()"
      ],
      "metadata": {
        "colab": {
          "base_uri": "https://localhost:8080/"
        },
        "id": "rYF0L_a_V18K",
        "outputId": "17f8a675-305f-4ddc-b662-b5ebeb7a6302"
      },
      "execution_count": null,
      "outputs": [
        {
          "output_type": "stream",
          "name": "stdout",
          "text": [
            "<class 'pandas.core.frame.DataFrame'>\n",
            "RangeIndex: 3 entries, 0 to 2\n",
            "Data columns (total 2 columns):\n",
            " #   Column  Non-Null Count  Dtype  \n",
            "---  ------  --------------  -----  \n",
            " 0   Name    3 non-null      object \n",
            " 1   GPA     2 non-null      float64\n",
            "dtypes: float64(1), object(1)\n",
            "memory usage: 180.0+ bytes\n"
          ]
        }
      ]
    },
    {
      "cell_type": "code",
      "source": [
        "import pandas as pd\n",
        "\n",
        "df = pd.DataFrame({\n",
        "\n",
        "    'Department': ['CSE', 'EEE', 'CSE', 'CSE', 'EEE'],\n",
        "\n",
        "    'GPA': [3.9, 3.5, 3.2, 3.7, 3.8]\n",
        "\n",
        "})\n",
        "\n",
        "avg_gpa = df.groupby('Department')['GPA'].mean()\n",
        "\n",
        "print(avg_gpa)"
      ],
      "metadata": {
        "colab": {
          "base_uri": "https://localhost:8080/"
        },
        "id": "SmR-upMIWDBJ",
        "outputId": "7cfd02a8-8569-4eab-e814-070045eb26cf"
      },
      "execution_count": null,
      "outputs": [
        {
          "output_type": "stream",
          "name": "stdout",
          "text": [
            "Department\n",
            "CSE    3.60\n",
            "EEE    3.65\n",
            "Name: GPA, dtype: float64\n"
          ]
        }
      ]
    },
    {
      "cell_type": "markdown",
      "source": [
        "NumPy Library"
      ],
      "metadata": {
        "id": "HKk3WAMyYXMJ"
      }
    },
    {
      "cell_type": "code",
      "source": [
        "import numpy as np\n",
        "\n",
        "# Create 1D and 2D arrays\n",
        "arr1 = np.array([1, 2, 3])\n",
        "arr2 = np.array([[1, 2], [3, 4]])\n",
        "\n",
        "print(\"1D Array:\", arr1)\n",
        "print(\"2D Array:\\n\", arr2)\n"
      ],
      "metadata": {
        "colab": {
          "base_uri": "https://localhost:8080/"
        },
        "id": "SYQDOO_FYfVq",
        "outputId": "9b1c55a6-bfb7-440e-a696-73f153d165d6"
      },
      "execution_count": null,
      "outputs": [
        {
          "output_type": "stream",
          "name": "stdout",
          "text": [
            "1D Array: [1 2 3]\n",
            "2D Array:\n",
            " [[1 2]\n",
            " [3 4]]\n"
          ]
        }
      ]
    },
    {
      "cell_type": "code",
      "source": [
        "import numpy as np\n",
        "\n",
        "# Create numbers from 0 to 9\n",
        "arr = np.arange(0, 10)\n",
        "\n",
        "print(\"Range Array:\", arr)\n"
      ],
      "metadata": {
        "colab": {
          "base_uri": "https://localhost:8080/"
        },
        "id": "h_4mPqMEYz3m",
        "outputId": "13c2ec7f-eeec-4360-cad9-547f13e21374"
      },
      "execution_count": null,
      "outputs": [
        {
          "output_type": "stream",
          "name": "stdout",
          "text": [
            "Range Array: [0 1 2 3 4 5 6 7 8 9]\n"
          ]
        }
      ]
    },
    {
      "cell_type": "code",
      "source": [
        "import numpy as np\n",
        "\n",
        "# Create 1D array and reshape to 2D\n",
        "arr = np.arange(1, 10)\n",
        "reshaped = arr.reshape((3, 3))\n",
        "\n",
        "print(\"Reshaped Array:\\n\", reshaped)\n"
      ],
      "metadata": {
        "id": "1JlWm8v3ZVXL",
        "outputId": "b838e75c-6bec-4834-b04e-a5a2fa21538d",
        "colab": {
          "base_uri": "https://localhost:8080/"
        }
      },
      "execution_count": null,
      "outputs": [
        {
          "output_type": "stream",
          "name": "stdout",
          "text": [
            "Reshaped Array:\n",
            " [[1 2 3]\n",
            " [4 5 6]\n",
            " [7 8 9]]\n"
          ]
        }
      ]
    },
    {
      "cell_type": "code",
      "source": [
        "import numpy as np\n",
        "\n",
        "# Sample data\n",
        "arr = np.array([10, 20, 30, 40, 50])\n",
        "\n",
        "print(\"Mean:\", np.mean(arr))\n",
        "print(\"Standard Deviation:\", np.std(arr))\n"
      ],
      "metadata": {
        "id": "uYOAodwUZaj5",
        "outputId": "8efc8881-d5ae-4a74-bd7b-b0f63551b5ea",
        "colab": {
          "base_uri": "https://localhost:8080/"
        }
      },
      "execution_count": null,
      "outputs": [
        {
          "output_type": "stream",
          "name": "stdout",
          "text": [
            "Mean: 30.0\n",
            "Standard Deviation: 14.142135623730951\n"
          ]
        }
      ]
    },
    {
      "cell_type": "markdown",
      "source": [
        "Matplotlib library"
      ],
      "metadata": {
        "id": "m8_67D3aMYXv"
      }
    },
    {
      "cell_type": "code",
      "source": [
        "import matplotlib.pyplot as plt\n",
        "\n",
        "x = [1, 2, 3, 4, 5]\n",
        "y = [2, 4, 6, 8, 10]\n",
        "\n",
        "plt.plot(x, y)\n",
        "plt.title(\"Line Chart\")\n",
        "plt.xlabel(\"X-axis\")\n",
        "plt.ylabel(\"Y-axis\")\n",
        "plt.grid(True)\n",
        "plt.show()\n"
      ],
      "metadata": {
        "colab": {
          "base_uri": "https://localhost:8080/",
          "height": 472
        },
        "id": "yEvuDFdbMdPN",
        "outputId": "5f088eee-d8a3-4e4c-9fde-8b544ca8febf"
      },
      "execution_count": null,
      "outputs": [
        {
          "output_type": "display_data",
          "data": {
            "text/plain": [
              "<Figure size 640x480 with 1 Axes>"
            ],
            "image/png": "[encoded data removed]"
          },
          "metadata": {}
        }
      ]
    },
    {
      "cell_type": "code",
      "source": [
        "import matplotlib.pyplot as plt\n",
        "\n",
        "students = [\"Afsar\", \"Sadia\", \"Rahim\", \"Karim\"]\n",
        "marks = [85, 90, 75, 88]\n",
        "\n",
        "plt.bar(students, marks, color='skyblue')\n",
        "plt.title(\"Student Marks\")\n",
        "plt.xlabel(\"Names\")\n",
        "plt.ylabel(\"Marks\")\n",
        "plt.show()\n"
      ],
      "metadata": {
        "colab": {
          "base_uri": "https://localhost:8080/",
          "height": 472
        },
        "id": "dtd_7MmWMx8o",
        "outputId": "e521ea36-b248-4fde-9f6a-6d15947efafe"
      },
      "execution_count": null,
      "outputs": [
        {
          "output_type": "display_data",
          "data": {
            "text/plain": [
              "<Figure size 640x480 with 1 Axes>"
            ],
            "image/png": "[encoded data removed]"
          },
          "metadata": {}
        }
      ]
    },
    {
      "cell_type": "code",
      "source": [
        "import matplotlib.pyplot as plt\n",
        "\n",
        "labels = [\"Python\", \"JavaScript\", \"C++\", \"Java\"]\n",
        "values = [40, 25, 20, 15]\n",
        "\n",
        "plt.pie(values, labels=labels, autopct='%1.1f%%')\n",
        "plt.title(\"Programming Language Usage\")\n",
        "plt.show()\n"
      ],
      "metadata": {
        "colab": {
          "base_uri": "https://localhost:8080/",
          "height": 428
        },
        "id": "YVFUTd38NTLe",
        "outputId": "bab2bc19-3d38-4c13-8bdf-753a6278923f"
      },
      "execution_count": null,
      "outputs": [
        {
          "output_type": "display_data",
          "data": {
            "text/plain": [
              "<Figure size 640x480 with 1 Axes>"
            ],
            "image/png": "[encoded data removed]"
          },
          "metadata": {}
        }
      ]
    },
    {
      "cell_type": "code",
      "source": [
        "import matplotlib.pyplot as plt\n",
        "\n",
        "ages = [21, 22, 25, 25, 30, 32, 33, 35, 35, 35, 36, 40]\n",
        "\n",
        "plt.hist(ages, bins=5, color='orange')\n",
        "plt.title(\"Age Distribution\")\n",
        "plt.xlabel(\"Age Range\")\n",
        "plt.ylabel(\"Frequency\")\n",
        "plt.show()\n"
      ],
      "metadata": {
        "colab": {
          "base_uri": "https://localhost:8080/",
          "height": 472
        },
        "id": "YWWf_U80NY2f",
        "outputId": "1f4e05d4-bfc2-4fec-9d9d-adaafc6b1365"
      },
      "execution_count": null,
      "outputs": [
        {
          "output_type": "display_data",
          "data": {
            "text/plain": [
              "<Figure size 640x480 with 1 Axes>"
            ],
            "image/png": "[encoded data removed]"
          },
          "metadata": {}
        }
      ]
    },
    {
      "cell_type": "markdown",
      "source": [
        "Scikit-learn library"
      ],
      "metadata": {
        "id": "CoX8TM2CXcrN"
      }
    },
    {
      "cell_type": "code",
      "source": [
        "from sklearn.model_selection import train_test_split\n",
        "\n",
        "X = [1, 2, 3, 4, 5, 6]\n",
        "y = [10, 20, 30, 40, 50, 60]\n",
        "\n",
        "# Split into 80% training and 20% testing\n",
        "X_train, X_test, y_train, y_test = train_test_split(X, y, test_size=0.2)\n",
        "\n",
        "print(\"Train:\", X_train, y_train)\n",
        "print(\"Test:\", X_test, y_test)\n"
      ],
      "metadata": {
        "colab": {
          "base_uri": "https://localhost:8080/"
        },
        "id": "9x8jiTfZXgUZ",
        "outputId": "f9ae85cc-5a40-4c76-afd4-abe27973f689"
      },
      "execution_count": null,
      "outputs": [
        {
          "output_type": "stream",
          "name": "stdout",
          "text": [
            "Train: [6, 2, 1, 5] [60, 20, 10, 50]\n",
            "Test: [4, 3] [40, 30]\n"
          ]
        }
      ]
    },
    {
      "cell_type": "code",
      "source": [
        "from sklearn.linear_model import LinearRegression\n",
        "import numpy as np\n",
        "\n",
        "# Features and target\n",
        "X = np.array([[1], [2], [3], [4]])\n",
        "y = np.array([2, 4, 6, 8])\n",
        "\n",
        "model = LinearRegression()\n",
        "model.fit(X, y)\n",
        "\n",
        "print(\"Prediction for x=5:\", model.predict([[5]]))\n"
      ],
      "metadata": {
        "colab": {
          "base_uri": "https://localhost:8080/"
        },
        "id": "7r6b2LrnXqAL",
        "outputId": "e0b2f5d3-5a1b-41ae-fd37-8330bd9fb074"
      },
      "execution_count": null,
      "outputs": [
        {
          "output_type": "stream",
          "name": "stdout",
          "text": [
            "Prediction for x=5: [10.]\n"
          ]
        }
      ]
    },
    {
      "cell_type": "code",
      "source": [
        "from sklearn.neighbors import KNeighborsClassifier\n",
        "\n",
        "# Features (Height, Weight), Labels (Gender)\n",
        "X = [[170, 60], [160, 55], [180, 70], [158, 50]]\n",
        "y = [\"Male\", \"Female\", \"Male\", \"Female\"]\n",
        "\n",
        "model = KNeighborsClassifier(n_neighbors=1)\n",
        "model.fit(X, y)\n",
        "\n",
        "print(\"Prediction:\", model.predict([[165, 58]]))\n"
      ],
      "metadata": {
        "id": "d5Pldk8fYUfb",
        "outputId": "9c575073-3c45-4eee-faa1-53ba307a9c44",
        "colab": {
          "base_uri": "https://localhost:8080/"
        }
      },
      "execution_count": null,
      "outputs": [
        {
          "output_type": "stream",
          "name": "stdout",
          "text": [
            "Prediction: ['Male']\n"
          ]
        }
      ]
    },
    {
      "cell_type": "code",
      "source": [
        "from sklearn.preprocessing import StandardScaler\n",
        "\n",
        "data = [[100], [200], [300]]\n",
        "scaler = StandardScaler()\n",
        "\n",
        "scaled_data = scaler.fit_transform(data)\n",
        "print(\"Scaled Data:\\n\", scaled_data)\n"
      ],
      "metadata": {
        "id": "WT0dyvhVYZqa",
        "outputId": "29c5d381-8c6e-43a5-e126-7db2956816a3",
        "colab": {
          "base_uri": "https://localhost:8080/"
        }
      },
      "execution_count": null,
      "outputs": [
        {
          "output_type": "stream",
          "name": "stdout",
          "text": [
            "Scaled Data:\n",
            " [[-1.22474487]\n",
            " [ 0.        ]\n",
            " [ 1.22474487]]\n"
          ]
        }
      ]
    }
  ]
}